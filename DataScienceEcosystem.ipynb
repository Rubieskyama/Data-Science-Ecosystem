{
  "nbformat": 4,
  "nbformat_minor": 0,
  "metadata": {
    "colab": {
      "provenance": []
    },
    "kernelspec": {
      "name": "python3",
      "display_name": "Python 3"
    },
    "language_info": {
      "name": "python"
    }
  },
  "cells": [
    {
      "cell_type": "markdown",
      "source": [
        "#Data Science Tools and Ecosystem"
      ],
      "metadata": {
        "id": "AwoNiw4t9Ykw"
      }
    },
    {
      "cell_type": "markdown",
      "source": [
        "In this notebook, Data Science Tools and Ecosystems are summerized."
      ],
      "metadata": {
        "id": "97V2NaFt-wx-"
      }
    },
    {
      "cell_type": "markdown",
      "source": [
        "**Objectives:**\n",
        "- List popular languages for Data Science.\n",
        "- List commonly used libraries in Data Science.\n",
        "- List Open Source Data Science tools.\n"
      ],
      "metadata": {
        "id": "cug2DAD5GuEv"
      }
    },
    {
      "cell_type": "markdown",
      "source": [
        "Some of the popular languages that Data Scientists use are:\n",
        "1. Python\n",
        "2. R\n",
        "3. SQL\n",
        "4. Java"
      ],
      "metadata": {
        "id": "-n9dB2N__kRY"
      }
    },
    {
      "cell_type": "markdown",
      "source": [
        "Some of the commonly used libraries used by Data Scientists include:\n",
        "1. Pandas\n",
        "2. Numpy\n",
        "3. Matplotlib\n",
        "4. Tensorflow\n",
        "5. Scikit-learn"
      ],
      "metadata": {
        "id": "TdDFqw5qA9nU"
      }
    },
    {
      "cell_type": "markdown",
      "source": [
        "|Data SCience Tools|\n",
        "|------------------|\n",
        "|R-Studio|\n",
        "|Virtual Studio Code|\n",
        "|Jupyter Lab|"
      ],
      "metadata": {
        "id": "Mln6ipWFDKx4"
      }
    },
    {
      "cell_type": "markdown",
      "source": [
        "###Below are few examples of evaluating arithmetic expressions in Python"
      ],
      "metadata": {
        "id": "e1vbCCm3EWi0"
      }
    },
    {
      "cell_type": "code",
      "source": [
        "#This is a simple arithmetic expression to multiply then add integers\n",
        "(3*4)+5"
      ],
      "metadata": {
        "colab": {
          "base_uri": "https://localhost:8080/"
        },
        "id": "fFI2_5CX9jRA",
        "outputId": "3345be31-f86e-4095-aa6b-a3daf238c7e7"
      },
      "execution_count": 1,
      "outputs": [
        {
          "output_type": "execute_result",
          "data": {
            "text/plain": [
              "17"
            ]
          },
          "metadata": {},
          "execution_count": 1
        }
      ]
    },
    {
      "cell_type": "code",
      "source": [
        "#This will convert 200 minutes into hours by dividing by 60\n",
        "200/60"
      ],
      "metadata": {
        "colab": {
          "base_uri": "https://localhost:8080/"
        },
        "id": "r_ii0ZpnF6fN",
        "outputId": "fe660a81-2251-4a76-ddee-b23a9985d310"
      },
      "execution_count": 2,
      "outputs": [
        {
          "output_type": "execute_result",
          "data": {
            "text/plain": [
              "3.3333333333333335"
            ]
          },
          "metadata": {},
          "execution_count": 2
        }
      ]
    },
    {
      "cell_type": "markdown",
      "source": [
        "##Author\n",
        "Rubies Kyama Kwaila"
      ],
      "metadata": {
        "id": "xRW-xRVTJwQx"
      }
    }
  ]
}